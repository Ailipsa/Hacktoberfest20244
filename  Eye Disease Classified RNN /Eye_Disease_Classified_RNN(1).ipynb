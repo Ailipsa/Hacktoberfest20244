{
  "cells": [
    {
      "cell_type": "code",
      "execution_count": 1,
      "metadata": {
        "colab": {
          "base_uri": "https://localhost:8080/"
        },
        "id": "jOTc2fWjd_fv",
        "outputId": "d214e43d-04e8-47a3-a0ec-69fde7ce012e"
      },
      "outputs": [
        {
          "name": "stdout",
          "output_type": "stream",
          "text": [
            "Downloading eye-diseases-classification, 771355331 bytes compressed\n",
            "[==================================================] 771355331 bytes downloaded\n",
            "Downloaded and uncompressed: eye-diseases-classification\n",
            "Data source import complete.\n"
          ]
        }
      ],
      "source": [
        "\n",
        "# if you are not intrested to download the data set this code is preferable or you can download the data set from https://www.kaggle.com/datasets/gunavenkatdoddi/eye-diseases-classification\n",
        "import os\n",
        "import sys\n",
        "from tempfile import NamedTemporaryFile\n",
        "from urllib.request import urlopen\n",
        "from urllib.parse import unquote, urlparse\n",
        "from urllib.error import HTTPError\n",
        "from zipfile import ZipFile\n",
        "import tarfile\n",
        "import shutil\n",
        "\n",
        "CHUNK_SIZE = 40960\n",
        "DATA_SOURCE_MAPPING = 'eye-diseases-classification:https%3A%2F%2Fstorage.googleapis.com%2Fkaggle-data-sets%2F2440665%2F4130910%2Fbundle%2Farchive.zip%3FX-Goog-Algorithm%3DGOOG4-RSA-SHA256%26X-Goog-Credential%3Dgcp-kaggle-com%2540kaggle-161607.iam.gserviceaccount.com%252F20241007%252Fauto%252Fstorage%252Fgoog4_request%26X-Goog-Date%3D20241007T192845Z%26X-Goog-Expires%3D259200%26X-Goog-SignedHeaders%3Dhost%26X-Goog-Signature%3D54062b04a469efcd2e37a21f247c85201dc03d81917e0500102d7ba0c181dfdbb3fdfc92b86f562865990d234923cdd88f9a2f289fe8447b160ce741b050f4bbe25e897cdc396012f177c27073f4eb53ef8010e8a13470bcc97d272749d56b56cebe152f2966c2db1c74710c21001da5a00fbd2e543617b89dd441c1bbec3a1f3ec27835cb0577e0e7e29ce4e98209e7098259912c4ed30b79e6c275a99806db8bed2baa4bd39a0774c10191223fdddc111ae66f38f5ce8f5c9c88b6c3283c3054cc75a2a7de66e05171b1b47775cc37e233b639c3a38ca4a7dc23d699d0b364b9a99b3627f871dc698cf66557bc1276989acad63f5ae6c03db9e38eca5477c1'\n",
        "\n",
        "KAGGLE_INPUT_PATH='/kaggle/input'\n",
        "KAGGLE_WORKING_PATH='/kaggle/working'\n",
        "KAGGLE_SYMLINK='kaggle'\n",
        "\n",
        "!umount /kaggle/input/ 2> /dev/null\n",
        "shutil.rmtree('/kaggle/input', ignore_errors=True)\n",
        "os.makedirs(KAGGLE_INPUT_PATH, 0o777, exist_ok=True)\n",
        "os.makedirs(KAGGLE_WORKING_PATH, 0o777, exist_ok=True)\n",
        "\n",
        "try:\n",
        "  os.symlink(KAGGLE_INPUT_PATH, os.path.join(\"..\", 'input'), target_is_directory=True)\n",
        "except FileExistsError:\n",
        "  pass\n",
        "try:\n",
        "  os.symlink(KAGGLE_WORKING_PATH, os.path.join(\"..\", 'working'), target_is_directory=True)\n",
        "except FileExistsError:\n",
        "  pass\n",
        "\n",
        "for data_source_mapping in DATA_SOURCE_MAPPING.split(','):\n",
        "    directory, download_url_encoded = data_source_mapping.split(':')\n",
        "    download_url = unquote(download_url_encoded)\n",
        "    filename = urlparse(download_url).path\n",
        "    destination_path = os.path.join(KAGGLE_INPUT_PATH, directory)\n",
        "    try:\n",
        "        with urlopen(download_url) as fileres, NamedTemporaryFile() as tfile:\n",
        "            total_length = fileres.headers['content-length']\n",
        "            print(f'Downloading {directory}, {total_length} bytes compressed')\n",
        "            dl = 0\n",
        "            data = fileres.read(CHUNK_SIZE)\n",
        "            while len(data) > 0:\n",
        "                dl += len(data)\n",
        "                tfile.write(data)\n",
        "                done = int(50 * dl / int(total_length))\n",
        "                sys.stdout.write(f\"\\r[{'=' * done}{' ' * (50-done)}] {dl} bytes downloaded\")\n",
        "                sys.stdout.flush()\n",
        "                data = fileres.read(CHUNK_SIZE)\n",
        "            if filename.endswith('.zip'):\n",
        "              with ZipFile(tfile) as zfile:\n",
        "                zfile.extractall(destination_path)\n",
        "            else:\n",
        "              with tarfile.open(tfile.name) as tarfile:\n",
        "                tarfile.extractall(destination_path)\n",
        "            print(f'\\nDownloaded and uncompressed: {directory}')\n",
        "    except HTTPError as e:\n",
        "        print(f'Failed to load (likely expired) {download_url} to path {destination_path}')\n",
        "        continue\n",
        "    except OSError as e:\n",
        "        print(f'Failed to load {download_url} to path {destination_path}')\n",
        "        continue\n",
        "\n",
        "print('Data source import complete.')\n"
      ]
    },
    {
      "cell_type": "markdown",
      "metadata": {
        "id": "jMjAbXB4d_fx"
      },
      "source": [
        "<a id=\"1\"></a>\n",
        "<div id=\"animated-container\" style=\"position: relative;\n",
        "            border-radius: 10px;\n",
        "            padding: 10px;\n",
        "            font-family: Arial, sans-serif;\n",
        "            font-size: 36px;\n",
        "            font-weight: 900;\n",
        "            color: black;\n",
        "            display: inline-block;\n",
        "            text-transform: uppercase;\n",
        "            box-shadow: 2px 2px 4px #888;\n",
        "            text-shadow: 2px 2px 4px #888;\n",
        "            overflow: hidden;\n",
        "            background-color: #800606 ;\n",
        "            cursor: pointer;\" onclick=\"toggleAnimation()\"> <!-- Added cursor pointer and onclick event -->\n",
        "    <div style=\"position: absolute;\n",
        "                top: 50%;\n",
        "                right: 0; /* Adjusted to place on the right side */\n",
        "                transform: translateY(45%);\">\n",
        "        <!-- <img src=\"https://www.kaggle.com/static/images/tier-animation-transparent.gif\" alt=\"Cartoon Character\" style=\"height: 100px; width: auto;\"> -->\n",
        "    </div>\n",
        "    <div style=\"font-weight: bold;\"></div>\n",
        "    <span style=\"font-style: italic; text-shadow: 2px 2px 4px #888; color: white;\">Eye Disease 🦠(RNN)</span>\n",
        "         <!-- <img src=\"https://pin.it/6mmgqwOvV\" alt=\"Cartoon Character\" style=\"height: 50px; width: auto;\"> -->\n",
        "</div>\n",
        "\n",
        "<script>\n",
        "    function toggleAnimation() {\n",
        "        var container = document.getElementById('animated-container');\n",
        "        var animationDiv = container.querySelector('div');\n",
        "        if (animationDiv.style.animationPlayState === 'paused') {\n",
        "            animationDiv.style.animationPlayState = 'running';\n",
        "        } else {\n",
        "            animationDiv.style.animationPlayState = 'paused';\n",
        "        }\n",
        "    }\n",
        "</script>\n"
      ]
    },
    {
      "cell_type": "markdown",
      "metadata": {
        "id": "cyQD8o-1d_fz"
      },
      "source": [
        "<img src=\"https://www.mississippivision.com/wp-content/uploads/diabetic-retinopathy-1-2048x902.jpeg\" style=\"width:100%\">"
      ]
    },
    {
      "cell_type": "markdown",
      "metadata": {
        "id": "BnjU4XPhd_f1"
      },
      "source": [
        "<a id=\"1\"></a>\n",
        "<div id=\"animated-container\" style=\"position: relative;\n",
        "            border-radius: 10px;\n",
        "            padding: 10px;\n",
        "            font-family: Arial, sans-serif;\n",
        "            font-size: 36px;\n",
        "            font-weight: 900;\n",
        "            color: black;\n",
        "            display: inline-block;\n",
        "            text-transform: uppercase;\n",
        "            box-shadow: 2px 2px 4px #888;\n",
        "            text-shadow: 2px 2px 4px #888;\n",
        "            overflow: hidden;\n",
        "            background-color: #800606 ;\n",
        "            cursor: pointer;\" onclick=\"toggleAnimation()\"> <!-- Added cursor pointer and onclick event -->\n",
        "    <div style=\"position: absolute;\n",
        "                top: 50%;\n",
        "                right: 0; /* Adjusted to place on the right side */\n",
        "                transform: translateY(45%);\">\n",
        "        <!-- <img src=\"https://www.kaggle.com/static/images/tier-animation-transparent.gif\" alt=\"Cartoon Character\" style=\"height: 100px; width: auto;\"> -->\n",
        "    </div>\n",
        "    <div style=\"font-weight: bold;\"></div>\n",
        "    <span style=\"font-style: italic; text-shadow: 2px 2px 4px #888; color: white;\">About dataset 📊</span>\n",
        "         <!-- <img src=\"https://pin.it/6mmgqwOvV\" alt=\"Cartoon Character\" style=\"height: 50px; width: auto;\"> -->\n",
        "</div>\n",
        "\n",
        "<script>\n",
        "    function toggleAnimation() {\n",
        "        var container = document.getElementById('animated-container');\n",
        "        var animationDiv = container.querySelector('div');\n",
        "        if (animationDiv.style.animationPlayState === 'paused') {\n",
        "            animationDiv.style.animationPlayState = 'running';\n",
        "        } else {\n",
        "            animationDiv.style.animationPlayState = 'paused';\n",
        "        }\n",
        "    }\n",
        "</script>\n"
      ]
    },
    {
      "cell_type": "markdown",
      "metadata": {
        "id": "WHt3_VYQd_f1"
      },
      "source": [
        "# **Summary**\n",
        "**Our eyes are one of the most important senses that help us to make contact with each other and allow us to see the beauty and abomination around us. Eyes are susceptible to diseases. Eye diseases include **Glaucoma**, **Diabetic retinopathy**, and **Cataracts**.**Early diagnosis and treatment of eye diseases can preserve eyesight.**\n",
        "\n",
        "# **Eye Diseases**\n",
        "- **Glaucoma: Group of eye diseases that can damage the optic nerve. The optic nerve is responsible for transmitting visual information from the eye to the brain. Glaucoma can lead to permanent vision loss and, in some cases, blindness.**\n",
        "\n",
        "- **Diabetic retinopathy: It's an eye condition that affects people with diabetes. High blood sugar leaves damaged vessels in the retina. The retina is that part of your eyes that can detect light and send signals to the brain. Damage to these blood vessels can lead to vision loss and blindness in some cases.**\n",
        "\n",
        "- **Cataracts: Cataracts cloud the natural eye lens, leading to blurry vision and difficulty seeing clearly. Aging is one of the main reasons for this disease, but it can also be caused by factors such as injury, genetics, or medication effects. Cataracts can make natural vision blurry, cloudy, and even double it.**\n",
        "\n",
        "**By better understanding these eye diseases, their causes, and their effects on vision, we can develop insights to aid their early detection and effective management. This notebook tries to classify these diseases from pictures.**\n"
      ]
    },
    {
      "cell_type": "markdown",
      "metadata": {
        "id": "GwfXA5_6d_f2"
      },
      "source": [
        "<a id=\"1\"></a>\n",
        "<div id=\"animated-container\" style=\"position: relative;\n",
        "            border-radius: 10px;\n",
        "            padding: 10px;\n",
        "            font-family: Arial, sans-serif;\n",
        "            font-size: 36px;\n",
        "            font-weight: 900;\n",
        "            color: black;\n",
        "            display: inline-block;\n",
        "            text-transform: uppercase;\n",
        "            box-shadow: 2px 2px 4px #888;\n",
        "            text-shadow: 2px 2px 4px #888;\n",
        "            overflow: hidden;\n",
        "            background-color: #800606 ;\n",
        "            cursor: pointer;\" onclick=\"toggleAnimation()\"> <!-- Added cursor pointer and onclick event -->\n",
        "    <div style=\"position: absolute;\n",
        "                top: 50%;\n",
        "                right: 0; /* Adjusted to place on the right side */\n",
        "                transform: translateY(45%);\">\n",
        "        <!-- <img src=\"https://www.kaggle.com/static/images/tier-animation-transparent.gif\" alt=\"Cartoon Character\" style=\"height: 100px; width: auto;\"> -->\n",
        "    </div>\n",
        "    <div style=\"font-weight: bold;\"></div>\n",
        "    <span style=\"font-style: italic; text-shadow: 2px 2px 4px #888; color: white;\">about model(RNN) 🚀</span>\n",
        "         <!-- <img src=\"https://pin.it/6mmgqwOvV\" alt=\"Cartoon Character\" style=\"height: 50px; width: auto;\"> -->\n",
        "</div>\n",
        "\n",
        "<script>\n",
        "    function toggleAnimation() {\n",
        "        var container = document.getElementById('animated-container');\n",
        "        var animationDiv = container.querySelector('div');\n",
        "        if (animationDiv.style.animationPlayState === 'paused') {\n",
        "            animationDiv.style.animationPlayState = 'running';\n",
        "        } else {\n",
        "            animationDiv.style.animationPlayState = 'paused';\n",
        "        }\n",
        "    }\n",
        "</script>\n"
      ]
    },
    {
      "cell_type": "markdown",
      "metadata": {
        "id": "z2Gp-iWmd_f3"
      },
      "source": [
        "# **Recurrent Neural Networks (RNNs) 🔄🧠**\n",
        "\n",
        "**RNNs are a type of deep learning architecture widely used for processing sequential data. They excel at capturing temporal dependencies and have applications in various domains. 📚🔍**\n",
        "\n",
        "## **How RNNs Work 🔄**\n",
        "\n",
        "**RNNs mimic the human brain's ability to process and understand sequential information. They introduce recurrent connections within the network, allowing information to persist and be passed from one step to another within the sequence. 🕒🔁**\n",
        "\n",
        "**RNNs process sequential data step by step, considering the context of previous steps while analyzing the current step. At each step, the network takes an input and combines it with the hidden state from the previous step to generate an output and update the hidden state for the next step. 🚶‍♂️🔄**\n",
        "\n",
        "## **Capturing Dependencies and Long-term Context 🧠🔗**\n",
        "\n",
        "**RNNs are particularly effective at capturing temporal dependencies in sequences. They can model and understand the relationships between elements that appear at different positions within the sequence. This ability enables them to capture long-term dependencies, making them valuable for tasks involving sequential data. 📈🔍**\n",
        "\n",
        "**However, RNNs can face challenges in maintaining and propagating information over long sequences due to the vanishing gradient problem. To address this limitation, variants of RNNs such as Long Short-Term Memory (LSTM) and Gated Recurrent Unit (GRU) have been developed. These variants introduce gating mechanisms that help the network selectively update and retain information, mitigating the vanishing gradient problem. 📉🔒**\n",
        "\n",
        "## **Applications of RNNs 🌐📊**\n",
        "\n",
        "**RNNs find applications in several domains, including:**\n",
        "\n",
        "- **Natural Language Processing (NLP): RNNs can process and generate human language, making them useful for tasks like language modeling, sentiment analysis, and machine translation. 🗣️✍️🌐**\n",
        "- **Speech Recognition: RNNs are employed in speech recognition systems to convert spoken language into written text. 🎙️📝**\n",
        "- **Time Series Analysis: RNNs can analyze and predict patterns in time-dependent data, making them valuable for tasks such as stock market forecasting or weather prediction. ⏰📈🌦️**\n"
      ]
    },
    {
      "cell_type": "markdown",
      "metadata": {
        "id": "i_VR1tAtd_f4"
      },
      "source": [
        "<a id=\"1\"></a>\n",
        "<div id=\"animated-container\" style=\"position: relative;\n",
        "            border-radius: 10px;\n",
        "            padding: 10px;\n",
        "            font-family: Arial, sans-serif;\n",
        "            font-size: 36px;\n",
        "            font-weight: 900;\n",
        "            color: black;\n",
        "            display: inline-block;\n",
        "            text-transform: uppercase;\n",
        "            box-shadow: 2px 2px 4px #888;\n",
        "            text-shadow: 2px 2px 4px #888;\n",
        "            overflow: hidden;\n",
        "            background-color: #800606 ;\n",
        "            cursor: pointer;\" onclick=\"toggleAnimation()\"> <!-- Added cursor pointer and onclick event -->\n",
        "    <div style=\"position: absolute;\n",
        "                top: 50%;\n",
        "                right: 0; /* Adjusted to place on the right side */\n",
        "                transform: translateY(45%);\">\n",
        "        <!-- <img src=\"https://www.kaggle.com/static/images/tier-animation-transparent.gif\" alt=\"Cartoon Character\" style=\"height: 100px; width: auto;\"> -->\n",
        "    </div>\n",
        "    <div style=\"font-weight: bold;\"></div>\n",
        "    <span style=\"font-style: italic; text-shadow: 2px 2px 4px #888; color: white;\">Libraries 📚</span>\n",
        "         <!-- <img src=\"https://pin.it/6mmgqwOvV\" alt=\"Cartoon Character\" style=\"height: 50px; width: auto;\"> -->\n",
        "</div>\n",
        "\n",
        "<script>\n",
        "    function toggleAnimation() {\n",
        "        var container = document.getElementById('animated-container');\n",
        "        var animationDiv = container.querySelector('div');\n",
        "        if (animationDiv.style.animationPlayState === 'paused') {\n",
        "            animationDiv.style.animationPlayState = 'running';\n",
        "        } else {\n",
        "            animationDiv.style.animationPlayState = 'paused';\n",
        "        }\n",
        "    }\n",
        "</script>\n"
      ]
    },
    {
      "cell_type": "code",
      "execution_count": null,
      "metadata": {
        "execution": {
          "iopub.execute_input": "2024-04-29T04:20:02.65089Z",
          "iopub.status.busy": "2024-04-29T04:20:02.649726Z",
          "iopub.status.idle": "2024-04-29T04:20:18.91232Z",
          "shell.execute_reply": "2024-04-29T04:20:18.910993Z",
          "shell.execute_reply.started": "2024-04-29T04:20:02.65085Z"
        },
        "id": "K2s07nrGd_f5",
        "trusted": true
      },
      "outputs": [],
      "source": [
        "import os\n",
        "import cv2\n",
        "import random\n",
        "import pandas as pd\n",
        "import numpy as np\n",
        "import matplotlib.pyplot as plt\n",
        "import seaborn as sns\n",
        "import tensorflow as tf\n",
        "from PIL import Image\n",
        "from tensorflow import keras\n",
        "from tensorflow.keras import layers\n",
        "from tensorflow.keras.models import Sequential\n",
        "from tensorflow.keras.preprocessing.image import ImageDataGenerator # Corrected import statement\n",
        "from tensorflow.keras.layers import Conv2D, MaxPooling2D, Flatten, Dense\n",
        "from tensorflow.keras.callbacks import TensorBoard\n",
        "from sklearn.metrics import classification_report\n",
        "import warnings\n",
        "warnings.filterwarnings('ignore')"
      ]
    },
    {
      "cell_type": "markdown",
      "metadata": {
        "id": "p57uKtm-d_f5"
      },
      "source": [
        "<a id=\"1\"></a>\n",
        "<div id=\"animated-container\" style=\"position: relative;\n",
        "            border-radius: 10px;\n",
        "            padding: 10px;\n",
        "            font-family: Arial, sans-serif;\n",
        "            font-size: 36px;\n",
        "            font-weight: 900;\n",
        "            color: black;\n",
        "            display: inline-block;\n",
        "            text-transform: uppercase;\n",
        "            box-shadow: 2px 2px 4px #888;\n",
        "            text-shadow: 2px 2px 4px #888;\n",
        "            overflow: hidden;\n",
        "            background-color: #800606 ;\n",
        "            cursor: pointer;\" onclick=\"toggleAnimation()\"> <!-- Added cursor pointer and onclick event -->\n",
        "    <div style=\"position: absolute;\n",
        "                top: 50%;\n",
        "                right: 0; /* Adjusted to place on the right side */\n",
        "                transform: translateY(45%);\">\n",
        "        <!-- <img src=\"https://www.kaggle.com/static/images/tier-animation-transparent.gif\" alt=\"Cartoon Character\" style=\"height: 100px; width: auto;\"> -->\n",
        "    </div>\n",
        "    <div style=\"font-weight: bold;\"></div>\n",
        "    <span style=\"font-style: italic; text-shadow: 2px 2px 4px #888; color: white;\">Preprocessing 🛠️</span>\n",
        "         <!-- <img src=\"https://pin.it/6mmgqwOvV\" alt=\"Cartoon Character\" style=\"height: 50px; width: auto;\"> -->\n",
        "</div>\n",
        "\n",
        "<script>\n",
        "    function toggleAnimation() {\n",
        "        var container = document.getElementById('animated-container');\n",
        "        var animationDiv = container.querySelector('div');\n",
        "        if (animationDiv.style.animationPlayState === 'paused') {\n",
        "            animationDiv.style.animationPlayState = 'running';\n",
        "        } else {\n",
        "            animationDiv.style.animationPlayState = 'paused';\n",
        "        }\n",
        "    }\n",
        "</script>\n"
      ]
    },
    {
      "cell_type": "code",
      "execution_count": null,
      "metadata": {
        "execution": {
          "iopub.execute_input": "2024-04-29T04:20:18.914862Z",
          "iopub.status.busy": "2024-04-29T04:20:18.914172Z",
          "iopub.status.idle": "2024-04-29T04:20:20.94018Z",
          "shell.execute_reply": "2024-04-29T04:20:20.938929Z",
          "shell.execute_reply.started": "2024-04-29T04:20:18.914826Z"
        },
        "id": "gQhqbuRId_f6",
        "trusted": true
      },
      "outputs": [],
      "source": [
        "# Define rescaling layer\n",
        "rescale = tf.keras.layers.Rescaling(1./255)\n",
        "\n",
        "# Load train dataset\n",
        "train_ds = tf.keras.utils.image_dataset_from_directory(\n",
        "    directory='/kaggle/input/eye-diseases-classification/dataset',\n",
        "    batch_size=32,\n",
        "    image_size=(256, 256),\n",
        "    validation_split=0.2,\n",
        "    subset=\"training\",\n",
        "    seed=123,\n",
        "    label_mode='categorical',  # Assuming you have multiple classes\n",
        ")\n",
        "\n",
        "# Preprocess train dataset (rescale)\n",
        "train_ds = train_ds.map(lambda x, y: (rescale(x), y))\n",
        "\n",
        "# Load validation dataset\n",
        "validation_ds = tf.keras.utils.image_dataset_from_directory(\n",
        "    directory='/kaggle/input/eye-diseases-classification/dataset',\n",
        "    batch_size=32,\n",
        "    image_size=(256, 256),\n",
        "    validation_split=0.2,\n",
        "    subset=\"validation\",\n",
        "    seed=123,\n",
        "    label_mode='categorical',  # Assuming you have multiple classes\n",
        ")\n",
        "\n",
        "# Preprocess validation dataset (rescale)\n",
        "validation_ds = validation_ds.map(lambda x, y: (rescale(x), y))\n",
        "\n",
        "# Load test dataset\n",
        "test_ds = tf.keras.utils.image_dataset_from_directory(\n",
        "    directory='/kaggle/input/eye-diseases-classification/dataset',  # Specify the directory for the test dataset\n",
        "    batch_size=32,\n",
        "    image_size=(256, 256),\n",
        "    label_mode='categorical',  # Assuming you have multiple classes\n",
        "    shuffle=False,\n",
        ")\n",
        "\n",
        "# Preprocess test dataset (rescale)\n",
        "test_ds = test_ds.map(lambda x, y: (rescale(x), y))"
      ]
    },
    {
      "cell_type": "markdown",
      "metadata": {
        "id": "5j6M1U8Nd_f6"
      },
      "source": [
        "## **Check Shape After Preprocessing**"
      ]
    },
    {
      "cell_type": "code",
      "execution_count": null,
      "metadata": {
        "execution": {
          "iopub.execute_input": "2024-04-29T04:20:24.328179Z",
          "iopub.status.busy": "2024-04-29T04:20:24.327757Z",
          "iopub.status.idle": "2024-04-29T04:20:28.91454Z",
          "shell.execute_reply": "2024-04-29T04:20:28.913103Z",
          "shell.execute_reply.started": "2024-04-29T04:20:24.328146Z"
        },
        "id": "36gqoPA6d_f6",
        "trusted": true
      },
      "outputs": [],
      "source": [
        "# Check the first image shape in the training dataset\n",
        "print(\"Shape of the first image in the training dataset:\", next(iter(train_ds))[0][0].shape)\n",
        "# Check the first image shape in the validation dataset\n",
        "print(\"Shape of the first image in the validation dataset:\", next(iter(validation_ds))[0][0].shape)\n",
        "# Check the first image shape in the test dataset\n",
        "print(\"Shape of the first image in the test dataset:\", next(iter(test_ds))[0][0].shape)"
      ]
    },
    {
      "cell_type": "markdown",
      "metadata": {
        "id": "HtAiNu7Qd_f7"
      },
      "source": [
        "## **Check Pixel Value After Preprocessing**"
      ]
    },
    {
      "cell_type": "code",
      "execution_count": null,
      "metadata": {
        "execution": {
          "iopub.execute_input": "2024-04-29T04:20:35.125572Z",
          "iopub.status.busy": "2024-04-29T04:20:35.125112Z",
          "iopub.status.idle": "2024-04-29T04:20:57.145605Z",
          "shell.execute_reply": "2024-04-29T04:20:57.14435Z",
          "shell.execute_reply.started": "2024-04-29T04:20:35.12554Z"
        },
        "id": "XjXC01PSd_f7",
        "trusted": true
      },
      "outputs": [],
      "source": [
        "# Initialize variables to store minimum and maximum pixel values\n",
        "min_pixel_value = float('inf')\n",
        "max_pixel_value = float('-inf')\n",
        "\n",
        "# Iterate through the dataset\n",
        "for images, _ in train_ds:\n",
        "    # Compute the minimum and maximum pixel values in the current batch of images\n",
        "    batch_min = tf.reduce_min(images)\n",
        "    batch_max = tf.reduce_max(images)\n",
        "\n",
        "    # Update overall minimum and maximum pixel values\n",
        "    min_pixel_value = tf.minimum(min_pixel_value, batch_min)\n",
        "    max_pixel_value = tf.maximum(max_pixel_value, batch_max)\n",
        "\n",
        "# Print the minimum and maximum pixel values\n",
        "print(\"Minimum pixel value:\", min_pixel_value.numpy())\n",
        "print(\"Maximum pixel value:\", max_pixel_value.numpy())\n"
      ]
    },
    {
      "cell_type": "markdown",
      "metadata": {
        "id": "tjAucil5d_f7"
      },
      "source": [
        "<a id=\"1\"></a>\n",
        "<div id=\"animated-container\" style=\"position: relative;\n",
        "            border-radius: 10px;\n",
        "            padding: 10px;\n",
        "            font-family: Arial, sans-serif;\n",
        "            font-size: 36px;\n",
        "            font-weight: 900;\n",
        "            color: black;\n",
        "            display: inline-block;\n",
        "            text-transform: uppercase;\n",
        "            box-shadow: 2px 2px 4px #888;\n",
        "            text-shadow: 2px 2px 4px #888;\n",
        "            overflow: hidden;\n",
        "            background-color: #800606 ;\n",
        "            cursor: pointer;\" onclick=\"toggleAnimation()\"> <!-- Added cursor pointer and onclick event -->\n",
        "    <div style=\"position: absolute;\n",
        "                top: 50%;\n",
        "                right: 0; /* Adjusted to place on the right side */\n",
        "                transform: translateY(45%);\">\n",
        "        <!-- <img src=\"https://www.kaggle.com/static/images/tier-animation-transparent.gif\" alt=\"Cartoon Character\" style=\"height: 100px; width: auto;\"> -->\n",
        "    </div>\n",
        "    <div style=\"font-weight: bold;\"></div>\n",
        "    <span style=\"font-style: italic; text-shadow: 2px 2px 4px #888; color: white;\">Visualization 🕵</span>\n",
        "         <!-- <img src=\"https://pin.it/6mmgqwOvV\" alt=\"Cartoon Character\" style=\"height: 50px; width: auto;\"> -->\n",
        "</div>\n",
        "\n",
        "<script>\n",
        "    function toggleAnimation() {\n",
        "        var container = document.getElementById('animated-container');\n",
        "        var animationDiv = container.querySelector('div');\n",
        "        if (animationDiv.style.animationPlayState === 'paused') {\n",
        "            animationDiv.style.animationPlayState = 'running';\n",
        "        } else {\n",
        "            animationDiv.style.animationPlayState = 'paused';\n",
        "        }\n",
        "    }\n",
        "</script>\n"
      ]
    },
    {
      "cell_type": "code",
      "execution_count": null,
      "metadata": {
        "execution": {
          "iopub.execute_input": "2024-04-29T04:21:12.747792Z",
          "iopub.status.busy": "2024-04-29T04:21:12.746537Z",
          "iopub.status.idle": "2024-04-29T04:21:12.759122Z",
          "shell.execute_reply": "2024-04-29T04:21:12.757789Z",
          "shell.execute_reply.started": "2024-04-29T04:21:12.747738Z"
        },
        "id": "yi5V3DJFd_f7",
        "trusted": true
      },
      "outputs": [],
      "source": [
        "def visualize_images(path, target_size=(256, 256), num_images=5):\n",
        "\n",
        "    # Get a list of image filenames\n",
        "    image_filenames = [f for f in os.listdir(path) if os.path.isfile(os.path.join(path, f))]\n",
        "\n",
        "    if not image_filenames:\n",
        "        raise ValueError(\"No images found in the specified path\")\n",
        "\n",
        "    # Select random images\n",
        "    selected_images = random.sample(image_filenames, min(num_images, len(image_filenames)))\n",
        "\n",
        "    # Create a figure and axes\n",
        "    fig, axes = plt.subplots(1, num_images, figsize=(15, 3), facecolor='white')\n",
        "\n",
        "    # Display each image\n",
        "    for i, image_filename in enumerate(selected_images):\n",
        "        # Load image and resize\n",
        "        image_path = os.path.join(path, image_filename)\n",
        "        image = Image.open(image_path)\n",
        "        image = image.resize(target_size)\n",
        "\n",
        "        # Display image\n",
        "        axes[i].imshow(image)\n",
        "        axes[i].axis('off')\n",
        "        axes[i].set_title(image_filename)  # Set image filename as title\n",
        "\n",
        "    # Adjust layout and display\n",
        "    plt.tight_layout()\n",
        "    plt.show()\n"
      ]
    },
    {
      "cell_type": "markdown",
      "metadata": {
        "id": "Q6Dp1zaOd_f8"
      },
      "source": [
        "<a id=\"1\"></a>\n",
        "<div id=\"animated-container\" style=\"position: relative;\n",
        "            border-radius: 10px;\n",
        "            padding: 10px;\n",
        "            font-family: Arial, sans-serif;\n",
        "            font-size: 36px;\n",
        "            font-weight: 900;\n",
        "            color: black;\n",
        "            display: inline-block;\n",
        "            text-transform: uppercase;\n",
        "            box-shadow: 2px 2px 4px #888;\n",
        "            text-shadow: 2px 2px 4px #888;\n",
        "            overflow: hidden;\n",
        "            background-color: #800606 ;\n",
        "            cursor: pointer;\" onclick=\"toggleAnimation()\"> <!-- Added cursor pointer and onclick event -->\n",
        "    <div style=\"position: absolute;\n",
        "                top: 50%;\n",
        "                right: 0; /* Adjusted to place on the right side */\n",
        "                transform: translateY(45%);\">\n",
        "        <!-- <img src=\"https://www.kaggle.com/static/images/tier-animation-transparent.gif\" alt=\"Cartoon Character\" style=\"height: 100px; width: auto;\"> -->\n",
        "    </div>\n",
        "    <div style=\"font-weight: bold;\"></div>\n",
        "    <span style=\"font-style: italic; text-shadow: 2px 2px 4px #888; color: white;\">Cataract 👁️‍🗨️</span>\n",
        "         <!-- <img src=\"https://pin.it/6mmgqwOvV\" alt=\"Cartoon Character\" style=\"height: 50px; width: auto;\"> -->\n",
        "</div>\n",
        "\n",
        "<script>\n",
        "    function toggleAnimation() {\n",
        "        var container = document.getElementById('animated-container');\n",
        "        var animationDiv = container.querySelector('div');\n",
        "        if (animationDiv.style.animationPlayState === 'paused') {\n",
        "            animationDiv.style.animationPlayState = 'running';\n",
        "        } else {\n",
        "            animationDiv.style.animationPlayState = 'paused';\n",
        "        }\n",
        "    }\n",
        "</script>\n"
      ]
    },
    {
      "cell_type": "code",
      "execution_count": null,
      "metadata": {
        "execution": {
          "iopub.execute_input": "2024-04-29T04:21:23.107105Z",
          "iopub.status.busy": "2024-04-29T04:21:23.106034Z",
          "iopub.status.idle": "2024-04-29T04:21:24.448278Z",
          "shell.execute_reply": "2024-04-29T04:21:24.446962Z",
          "shell.execute_reply.started": "2024-04-29T04:21:23.107067Z"
        },
        "id": "J1Ts1aozd_f8",
        "trusted": true
      },
      "outputs": [],
      "source": [
        "# Specify the path containing the images to visualize\n",
        "path_to_visualize = \"/kaggle/input/eye-diseases-classification/dataset/cataract\"\n",
        "\n",
        "# Visualize 5 random images\n",
        "visualize_images(path_to_visualize, num_images=5)"
      ]
    },
    {
      "cell_type": "markdown",
      "metadata": {
        "id": "VQa2B1ngd_f8"
      },
      "source": [
        "<a id=\"1\"></a>\n",
        "<div id=\"animated-container\" style=\"position: relative;\n",
        "            border-radius: 10px;\n",
        "            padding: 10px;\n",
        "            font-family: Arial, sans-serif;\n",
        "            font-size: 36px;\n",
        "            font-weight: 900;\n",
        "            color: black;\n",
        "            display: inline-block;\n",
        "            text-transform: uppercase;\n",
        "            box-shadow: 2px 2px 4px #888;\n",
        "            text-shadow: 2px 2px 4px #888;\n",
        "            overflow: hidden;\n",
        "            background-color: #800606 ;\n",
        "            cursor: pointer;\" onclick=\"toggleAnimation()\"> <!-- Added cursor pointer and onclick event -->\n",
        "    <div style=\"position: absolute;\n",
        "                top: 50%;\n",
        "                right: 0; /* Adjusted to place on the right side */\n",
        "                transform: translateY(45%);\">\n",
        "        <!-- <img src=\"https://www.kaggle.com/static/images/tier-animation-transparent.gif\" alt=\"Cartoon Character\" style=\"height: 100px; width: auto;\"> -->\n",
        "    </div>\n",
        "    <div style=\"font-weight: bold;\"></div>\n",
        "    <span style=\"font-style: italic; text-shadow: 2px 2px 4px #888; color: white;\">Diabetic-Retinopathy 🦠</span>\n",
        "         <!-- <img src=\"https://pin.it/6mmgqwOvV\" alt=\"Cartoon Character\" style=\"height: 50px; width: auto;\"> -->\n",
        "</div>\n",
        "\n",
        "<script>\n",
        "    function toggleAnimation() {\n",
        "        var container = document.getElementById('animated-container');\n",
        "        var animationDiv = container.querySelector('div');\n",
        "        if (animationDiv.style.animationPlayState === 'paused') {\n",
        "            animationDiv.style.animationPlayState = 'running';\n",
        "        } else {\n",
        "            animationDiv.style.animationPlayState = 'paused';\n",
        "        }\n",
        "    }\n",
        "</script>\n"
      ]
    },
    {
      "cell_type": "code",
      "execution_count": null,
      "metadata": {
        "id": "jSjzgtR2d_f9"
      },
      "outputs": [],
      "source": [
        "# Specify the path containing the images to visualize\n",
        "path_to_visualize = \"/kaggle/input/eye-diseases-classification/dataset/diabetic_retinopathy\"\n",
        "\n",
        "# Visualize 5 random images\n",
        "visualize_images(path_to_visualize, num_images=5)"
      ]
    },
    {
      "cell_type": "markdown",
      "metadata": {
        "id": "-x6LPWOWd_f9"
      },
      "source": [
        "<a id=\"1\"></a>\n",
        "<div id=\"animated-container\" style=\"position: relative;\n",
        "            border-radius: 10px;\n",
        "            padding: 10px;\n",
        "            font-family: Arial, sans-serif;\n",
        "            font-size: 36px;\n",
        "            font-weight: 900;\n",
        "            color: black;\n",
        "            display: inline-block;\n",
        "            text-transform: uppercase;\n",
        "            box-shadow: 2px 2px 4px #888;\n",
        "            text-shadow: 2px 2px 4px #888;\n",
        "            overflow: hidden;\n",
        "            background-color: #800606 ;\n",
        "            cursor: pointer;\" onclick=\"toggleAnimation()\"> <!-- Added cursor pointer and onclick event -->\n",
        "    <div style=\"position: absolute;\n",
        "                top: 50%;\n",
        "                right: 0; /* Adjusted to place on the right side */\n",
        "                transform: translateY(45%);\">\n",
        "        <!-- <img src=\"https://www.kaggle.com/static/images/tier-animation-transparent.gif\" alt=\"Cartoon Character\" style=\"height: 100px; width: auto;\"> -->\n",
        "    </div>\n",
        "    <div style=\"font-weight: bold;\"></div>\n",
        "    <span style=\"font-style: italic; text-shadow: 2px 2px 4px #888; color: white;\">Glaucoma 🧿</span>\n",
        "         <!-- <img src=\"https://pin.it/6mmgqwOvV\" alt=\"Cartoon Character\" style=\"height: 50px; width: auto;\"> -->\n",
        "</div>\n",
        "\n",
        "<script>\n",
        "    function toggleAnimation() {\n",
        "        var container = document.getElementById('animated-container');\n",
        "        var animationDiv = container.querySelector('div');\n",
        "        if (animationDiv.style.animationPlayState === 'paused') {\n",
        "            animationDiv.style.animationPlayState = 'running';\n",
        "        } else {\n",
        "            animationDiv.style.animationPlayState = 'paused';\n",
        "        }\n",
        "    }\n",
        "</script>\n"
      ]
    },
    {
      "cell_type": "code",
      "execution_count": null,
      "metadata": {
        "id": "lqp7U_U5d_f9"
      },
      "outputs": [],
      "source": [
        "# Specify the path containing the images to visualize\n",
        "path_to_visualize = \"/kaggle/input/eye-diseases-classification/dataset/glaucoma\"\n",
        "\n",
        "# Visualize 5 random images\n",
        "visualize_images(path_to_visualize, num_images=5)"
      ]
    },
    {
      "cell_type": "markdown",
      "metadata": {
        "id": "JMg5xTQTd_f-"
      },
      "source": [
        "<a id=\"1\"></a>\n",
        "<div id=\"animated-container\" style=\"position: relative;\n",
        "            border-radius: 10px;\n",
        "            padding: 10px;\n",
        "            font-family: Arial, sans-serif;\n",
        "            font-size: 36px;\n",
        "            font-weight: 900;\n",
        "            color: black;\n",
        "            display: inline-block;\n",
        "            text-transform: uppercase;\n",
        "            box-shadow: 2px 2px 4px #888;\n",
        "            text-shadow: 2px 2px 4px #888;\n",
        "            overflow: hidden;\n",
        "            background-color: #800606 ;\n",
        "            cursor: pointer;\" onclick=\"toggleAnimation()\"> <!-- Added cursor pointer and onclick event -->\n",
        "    <div style=\"position: absolute;\n",
        "                top: 50%;\n",
        "                right: 0; /* Adjusted to place on the right side */\n",
        "                transform: translateY(45%);\">\n",
        "        <!-- <img src=\"https://www.kaggle.com/static/images/tier-animation-transparent.gif\" alt=\"Cartoon Character\" style=\"height: 100px; width: auto;\"> -->\n",
        "    </div>\n",
        "    <div style=\"font-weight: bold;\"></div>\n",
        "    <span style=\"font-style: italic; text-shadow: 2px 2px 4px #888; color: white;\">Normal 𓆩 👁️ 𓆪</span>\n",
        "         <!-- <img src=\"https://pin.it/6mmgqwOvV\" alt=\"Cartoon Character\" style=\"height: 50px; width: auto;\"> -->\n",
        "</div>\n",
        "\n",
        "<script>\n",
        "    function toggleAnimation() {\n",
        "        var container = document.getElementById('animated-container');\n",
        "        var animationDiv = container.querySelector('div');\n",
        "        if (animationDiv.style.animationPlayState === 'paused') {\n",
        "            animationDiv.style.animationPlayState = 'running';\n",
        "        } else {\n",
        "            animationDiv.style.animationPlayState = 'paused';\n",
        "        }\n",
        "    }\n",
        "</script>\n"
      ]
    },
    {
      "cell_type": "code",
      "execution_count": null,
      "metadata": {
        "id": "YDZJjTiPd_f-"
      },
      "outputs": [],
      "source": [
        "# Specify the path containing the images to visualize\n",
        "path_to_visualize = \"/kaggle/input/eye-diseases-classification/dataset/normal\"\n",
        "\n",
        "# Visualize 5 random images\n",
        "visualize_images(path_to_visualize, num_images=5)"
      ]
    },
    {
      "cell_type": "markdown",
      "metadata": {
        "id": "8GFt7YYcd_f-"
      },
      "source": [
        "<a id=\"1\"></a>\n",
        "<div id=\"animated-container\" style=\"position: relative;\n",
        "            border-radius: 10px;\n",
        "            padding: 10px;\n",
        "            font-family: Arial, sans-serif;\n",
        "            font-size: 36px;\n",
        "            font-weight: 900;\n",
        "            color: black;\n",
        "            display: inline-block;\n",
        "            text-transform: uppercase;\n",
        "            box-shadow: 2px 2px 4px #888;\n",
        "            text-shadow: 2px 2px 4px #888;\n",
        "            overflow: hidden;\n",
        "            background-color: #800606 ;\n",
        "            cursor: pointer;\" onclick=\"toggleAnimation()\"> <!-- Added cursor pointer and onclick event -->\n",
        "    <div style=\"position: absolute;\n",
        "                top: 50%;\n",
        "                right: 0; /* Adjusted to place on the right side */\n",
        "                transform: translateY(45%);\">\n",
        "        <!-- <img src=\"https://www.kaggle.com/static/images/tier-animation-transparent.gif\" alt=\"Cartoon Character\" style=\"height: 100px; width: auto;\"> -->\n",
        "    </div>\n",
        "    <div style=\"font-weight: bold;\"></div>\n",
        "    <span style=\"font-style: italic; text-shadow: 2px 2px 4px #888; color: white;\">Model 🤖</span>\n",
        "         <!-- <img src=\"https://pin.it/6mmgqwOvV\" alt=\"Cartoon Character\" style=\"height: 50px; width: auto;\"> -->\n",
        "</div>\n",
        "\n",
        "<script>\n",
        "    function toggleAnimation() {\n",
        "        var container = document.getElementById('animated-container');\n",
        "        var animationDiv = container.querySelector('div');\n",
        "        if (animationDiv.style.animationPlayState === 'paused') {\n",
        "            animationDiv.style.animationPlayState = 'running';\n",
        "        } else {\n",
        "            animationDiv.style.animationPlayState = 'paused';\n",
        "        }\n",
        "    }\n",
        "</script>\n"
      ]
    },
    {
      "cell_type": "markdown",
      "metadata": {
        "id": "SQaAWKjTd_f_"
      },
      "source": [
        "## **Build Model & Check Summary**"
      ]
    },
    {
      "cell_type": "code",
      "execution_count": null,
      "metadata": {
        "id": "KAtZrj-nd_f_"
      },
      "outputs": [],
      "source": [
        "\n",
        "# Define RNN model\n",
        "model = tf.keras.Sequential([\n",
        "    tf.keras.layers.Conv2D(32, (3, 3), activation='relu', input_shape=(256, 256, 3)),\n",
        "    tf.keras.layers.MaxPooling2D((2, 2)),\n",
        "    tf.keras.layers.Conv2D(64, (3, 3), activation='relu'),\n",
        "    tf.keras.layers.MaxPooling2D((2, 2)),\n",
        "    tf.keras.layers.Conv2D(64, (3, 3), activation='relu'),\n",
        "    tf.keras.layers.MaxPooling2D((2, 2)),\n",
        "    tf.keras.layers.Flatten(),\n",
        "    tf.keras.layers.Dense(64, activation='relu'),\n",
        "    tf.keras.layers.Reshape((64, 1)),  # Reshape for RNN input\n",
        "    tf.keras.layers.SimpleRNN(32),  # Simple RNN layer\n",
        "    tf.keras.layers.Dense(4, activation='softmax')  # Output layer\n",
        "])\n",
        "\n",
        "# Compile the model\n",
        "model.compile(optimizer='adam',\n",
        "              loss='categorical_crossentropy',\n",
        "              metrics=['accuracy'])\n",
        "\n",
        "# Print model summary\n",
        "print(model.summary())"
      ]
    },
    {
      "cell_type": "markdown",
      "metadata": {
        "id": "7s6D3zv6d_f_"
      },
      "source": [
        "## **Fit Model**"
      ]
    },
    {
      "cell_type": "code",
      "execution_count": null,
      "metadata": {
        "id": "VbnzwJO2d_f_"
      },
      "outputs": [],
      "source": [
        "\n",
        "# Define early stopping callback\n",
        "from tensorflow.keras.callbacks import EarlyStopping\n",
        "early_stopping = EarlyStopping(patience=5, restore_best_weights=True)\n",
        "\n",
        "# Fit the model with callbacks\n",
        "history = model.fit(train_ds,\n",
        "                    validation_data=validation_ds,\n",
        "                    epochs=5,\n",
        "                    callbacks=[early_stopping])"
      ]
    },
    {
      "cell_type": "markdown",
      "metadata": {
        "id": "N6gPhJ-Yd_gB"
      },
      "source": [
        "## **Evaluate Model**"
      ]
    },
    {
      "cell_type": "code",
      "execution_count": null,
      "metadata": {
        "id": "zrCGU1cxd_gB"
      },
      "outputs": [],
      "source": [
        "# Evaluate on test data\n",
        "test_loss, test_accuracy = model.evaluate(test_ds)\n",
        "print(\"Test accuracy:\", test_accuracy)"
      ]
    },
    {
      "cell_type": "markdown",
      "metadata": {
        "id": "aj3BIG1rd_gB"
      },
      "source": [
        "## **History Plot**"
      ]
    },
    {
      "cell_type": "code",
      "execution_count": null,
      "metadata": {
        "id": "i9jzu6XXd_gB"
      },
      "outputs": [],
      "source": [
        "\n",
        "# Define epochs\n",
        "epochs = range(1, len(history.history['loss']) + 1)\n",
        "\n",
        "# Plot training & validation loss\n",
        "plt.plot(epochs, history.history['loss'], label='Training Loss', marker='o')\n",
        "plt.plot(epochs, history.history['val_loss'], label='Validation Loss', marker='o')\n",
        "plt.title('Model Loss')\n",
        "plt.xlabel('Epoch')\n",
        "plt.ylabel('Loss')\n",
        "plt.legend()\n",
        "plt.show()\n",
        "\n",
        "# Plot training & validation accuracy\n",
        "plt.plot(epochs, history.history['accuracy'], label='Training Accuracy', marker='o')\n",
        "plt.plot(epochs, history.history['val_accuracy'], label='Validation Accuracy', marker='o')\n",
        "plt.title('Model Accuracy')\n",
        "plt.xlabel('Epoch')\n",
        "plt.ylabel('Accuracy')\n",
        "plt.legend()\n",
        "plt.show()"
      ]
    }
  ],
  "metadata": {
    "colab": {
      "name": "Eye Disease Classified RNN ",
      "provenance": []
    },
    "kaggle": {
      "accelerator": "none",
      "dataSources": [
        {
          "datasetId": 2440665,
          "sourceId": 4130910,
          "sourceType": "datasetVersion"
        }
      ],
      "dockerImageVersionId": 30698,
      "isGpuEnabled": false,
      "isInternetEnabled": true,
      "language": "python",
      "sourceType": "notebook"
    },
    "kernelspec": {
      "display_name": "Python 3",
      "language": "python",
      "name": "python3"
    },
    "language_info": {
      "codemirror_mode": {
        "name": "ipython",
        "version": 3
      },
      "file_extension": ".py",
      "mimetype": "text/x-python",
      "name": "python",
      "nbconvert_exporter": "python",
      "pygments_lexer": "ipython3",
      "version": "3.10.13"
    }
  },
  "nbformat": 4,
  "nbformat_minor": 0
}
